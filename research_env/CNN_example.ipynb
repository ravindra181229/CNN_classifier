{
 "cells": [
  {
   "cell_type": "code",
   "execution_count": 4,
   "id": "93e5a605",
   "metadata": {},
   "outputs": [],
   "source": [
    "import tensorflow as tf\n",
    "import os\n",
    "import urllib.request as req\n",
    "from tqdm import tqdm"
   ]
  },
  {
   "cell_type": "code",
   "execution_count": 5,
   "id": "789e30a5",
   "metadata": {},
   "outputs": [
    {
     "name": "stdout",
     "output_type": "stream",
     "text": [
      "Requirement already satisfied: tqdm in c:\\users\\snopy\\favorites\\downloads\\dl projects\\cnn_classifier\\cnn_classifier\\env\\lib\\site-packages (4.63.0)\n",
      "Requirement already satisfied: colorama in c:\\users\\snopy\\favorites\\downloads\\dl projects\\cnn_classifier\\cnn_classifier\\env\\lib\\site-packages (from tqdm) (0.4.4)\n"
     ]
    }
   ],
   "source": [
    "!pip install tqdm"
   ]
  },
  {
   "cell_type": "code",
   "execution_count": 6,
   "id": "6dbfc8f2",
   "metadata": {},
   "outputs": [],
   "source": [
    "soure_url = \"https://download.microsoft.com/download/3/E/1/3E1C3F21-ECDB-4869-8368-6DEBA77B919F/kagglecatsanddogs_3367a.zip\""
   ]
  },
  {
   "cell_type": "code",
   "execution_count": 7,
   "id": "622b0a31",
   "metadata": {},
   "outputs": [],
   "source": [
    "destination = \"data\"\n",
    "data_file = \"data.zip\"\n",
    "destination_path = os.path.join(destination, data_file)"
   ]
  },
  {
   "cell_type": "code",
   "execution_count": null,
   "id": "aa8624f4",
   "metadata": {},
   "outputs": [],
   "source": []
  }
 ],
 "metadata": {
  "kernelspec": {
   "display_name": "Python 3 (ipykernel)",
   "language": "python",
   "name": "python3"
  },
  "language_info": {
   "codemirror_mode": {
    "name": "ipython",
    "version": 3
   },
   "file_extension": ".py",
   "mimetype": "text/x-python",
   "name": "python",
   "nbconvert_exporter": "python",
   "pygments_lexer": "ipython3",
   "version": "3.7.11"
  }
 },
 "nbformat": 4,
 "nbformat_minor": 5
}
