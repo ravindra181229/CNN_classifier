{
 "cells": [
  {
   "cell_type": "code",
   "execution_count": 13,
   "id": "93e5a605",
   "metadata": {},
   "outputs": [],
   "source": [
    "import tensorflow as tf\n",
    "import os\n",
    "import urllib.request as req\n",
    "from tqdm import tqdm"
   ]
  },
  {
   "cell_type": "code",
   "execution_count": 14,
   "id": "789e30a5",
   "metadata": {},
   "outputs": [
    {
     "name": "stdout",
     "output_type": "stream",
     "text": [
      "Requirement already satisfied: tqdm in c:\\users\\snopy\\favorites\\downloads\\dl projects\\cnn_classifier\\cnn_classifier\\env\\lib\\site-packages (4.63.0)\n",
      "Requirement already satisfied: colorama in c:\\users\\snopy\\favorites\\downloads\\dl projects\\cnn_classifier\\cnn_classifier\\env\\lib\\site-packages (from tqdm) (0.4.4)\n"
     ]
    }
   ],
   "source": [
    "!pip install tqdm"
   ]
  },
  {
   "cell_type": "code",
   "execution_count": 15,
   "id": "6dbfc8f2",
   "metadata": {},
   "outputs": [],
   "source": [
    "soure_url = \"https://download.microsoft.com/download/3/E/1/3E1C3F21-ECDB-4869-8368-6DEBA77B919F/kagglecatsanddogs_3367a.zip\""
   ]
  },
  {
   "cell_type": "code",
   "execution_count": 17,
   "id": "bd955c59",
   "metadata": {},
   "outputs": [],
   "source": [
    "destination = \"data1\"\n",
    "os.makedirs(destination, exist_ok=True)\n",
    "data_file = \"data1.zip\"\n",
    "destination_path = os.path.join(destination, data_file)"
   ]
  },
  {
   "cell_type": "code",
   "execution_count": 18,
   "id": "0c897657",
   "metadata": {},
   "outputs": [],
   "source": [
    "filename , headers = req.urlretrieve(soure_url, destination_path)"
   ]
  },
  {
   "cell_type": "code",
   "execution_count": 19,
   "id": "2d225993",
   "metadata": {},
   "outputs": [
    {
     "data": {
      "text/plain": [
       "'data1\\\\data1.zip'"
      ]
     },
     "execution_count": 19,
     "metadata": {},
     "output_type": "execute_result"
    }
   ],
   "source": [
    "filename"
   ]
  },
  {
   "cell_type": "code",
   "execution_count": 21,
   "id": "6361df68",
   "metadata": {},
   "outputs": [
    {
     "name": "stdout",
     "output_type": "stream",
     "text": [
      "Content-Type: application/octet-stream\n",
      "Accept-Ranges: bytes\n",
      "Server: Windows-Azure-Blob/1.0 Microsoft-HTTPAPI/2.0\n",
      "x-ms-blob-content-md5: l2WJyK3tt5/f2azyQ9eE8w==\n",
      "Last-Modified: Sat, 13 Oct 2018 12:14:22 GMT\n",
      "ETag: \"0x8D6310568FD1DF6\"\n",
      "Content-Length: 824894548\n",
      "Date: Sat, 12 Mar 2022 11:18:29 GMT\n",
      "Connection: close\n",
      "\n",
      "\n"
     ]
    }
   ],
   "source": [
    "print(headers)"
   ]
  },
  {
   "cell_type": "code",
   "execution_count": null,
   "id": "b95a604a",
   "metadata": {},
   "outputs": [],
   "source": []
  }
 ],
 "metadata": {
  "kernelspec": {
   "display_name": "Python 3 (ipykernel)",
   "language": "python",
   "name": "python3"
  },
  "language_info": {
   "codemirror_mode": {
    "name": "ipython",
    "version": 3
   },
   "file_extension": ".py",
   "mimetype": "text/x-python",
   "name": "python",
   "nbconvert_exporter": "python",
   "pygments_lexer": "ipython3",
   "version": "3.7.11"
  }
 },
 "nbformat": 4,
 "nbformat_minor": 5
}
